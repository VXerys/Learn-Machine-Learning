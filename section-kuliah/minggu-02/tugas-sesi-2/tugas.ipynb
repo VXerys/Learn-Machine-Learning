{
 "cells": [
  {
   "cell_type": "code",
   "execution_count": 17,
   "metadata": {},
   "outputs": [],
   "source": [
    "import pandas as pd\n",
    "import numpy as np\n",
    "import matplotlib.pyplot as plt\n",
    "from sklearn.linear_model import LinearRegression"
   ]
  },
  {
   "cell_type": "code",
   "execution_count": 28,
   "metadata": {},
   "outputs": [
    {
     "data": {
      "text/html": [
       "<div>\n",
       "<style scoped>\n",
       "    .dataframe tbody tr th:only-of-type {\n",
       "        vertical-align: middle;\n",
       "    }\n",
       "\n",
       "    .dataframe tbody tr th {\n",
       "        vertical-align: top;\n",
       "    }\n",
       "\n",
       "    .dataframe thead th {\n",
       "        text-align: right;\n",
       "    }\n",
       "</style>\n",
       "<table border=\"1\" class=\"dataframe\">\n",
       "  <thead>\n",
       "    <tr style=\"text-align: right;\">\n",
       "      <th></th>\n",
       "      <th>City</th>\n",
       "      <th>Average Income(1000$)</th>\n",
       "      <th>Pizza Sell(1000 pcs)</th>\n",
       "    </tr>\n",
       "  </thead>\n",
       "  <tbody>\n",
       "    <tr>\n",
       "      <th>0</th>\n",
       "      <td>1</td>\n",
       "      <td>5</td>\n",
       "      <td>27</td>\n",
       "    </tr>\n",
       "    <tr>\n",
       "      <th>1</th>\n",
       "      <td>2</td>\n",
       "      <td>10</td>\n",
       "      <td>46</td>\n",
       "    </tr>\n",
       "    <tr>\n",
       "      <th>2</th>\n",
       "      <td>3</td>\n",
       "      <td>20</td>\n",
       "      <td>73</td>\n",
       "    </tr>\n",
       "    <tr>\n",
       "      <th>3</th>\n",
       "      <td>4</td>\n",
       "      <td>8</td>\n",
       "      <td>40</td>\n",
       "    </tr>\n",
       "    <tr>\n",
       "      <th>4</th>\n",
       "      <td>5</td>\n",
       "      <td>4</td>\n",
       "      <td>28</td>\n",
       "    </tr>\n",
       "    <tr>\n",
       "      <th>5</th>\n",
       "      <td>6</td>\n",
       "      <td>6</td>\n",
       "      <td>30</td>\n",
       "    </tr>\n",
       "    <tr>\n",
       "      <th>6</th>\n",
       "      <td>7</td>\n",
       "      <td>12</td>\n",
       "      <td>46</td>\n",
       "    </tr>\n",
       "    <tr>\n",
       "      <th>7</th>\n",
       "      <td>8</td>\n",
       "      <td>15</td>\n",
       "      <td>59</td>\n",
       "    </tr>\n",
       "  </tbody>\n",
       "</table>\n",
       "</div>"
      ],
      "text/plain": [
       "   City  Average Income(1000$)  Pizza Sell(1000 pcs)\n",
       "0     1                      5                    27\n",
       "1     2                     10                    46\n",
       "2     3                     20                    73\n",
       "3     4                      8                    40\n",
       "4     5                      4                    28\n",
       "5     6                      6                    30\n",
       "6     7                     12                    46\n",
       "7     8                     15                    59"
      ]
     },
     "execution_count": 28,
     "metadata": {},
     "output_type": "execute_result"
    }
   ],
   "source": [
    "data_pizza = pd.read_csv('data.csv')\n",
    "data_pizza"
   ]
  },
  {
   "cell_type": "markdown",
   "metadata": {},
   "source": [
    "## 1. Make Scatter Diagram "
   ]
  },
  {
   "cell_type": "code",
   "execution_count": 19,
   "metadata": {},
   "outputs": [
    {
     "data": {
      "image/png": "[encoded data removed]",
      "text/plain": [
       "<Figure size 800x600 with 1 Axes>"
      ]
     },
     "metadata": {},
     "output_type": "display_data"
    }
   ],
   "source": [
    "X = data_pizza[\"Average Income(1000$)\"].values.reshape(-1, 1)  \n",
    "y = data_pizza[\"Pizza Sell(1000 pcs)\"].values\n",
    "\n",
    "plt.figure(figsize=(8,6))\n",
    "plt.scatter(X, y, color='blue')\n",
    "plt.xlabel('Average Income(1000$)')\n",
    "plt.ylabel('Pizza Sell(1000 pcs)')\n",
    "plt.title('Scatter Diagram dari Data')\n",
    "plt.show()\n"
   ]
  },
  {
   "cell_type": "markdown",
   "metadata": {},
   "source": [
    "## 2. Apakah kedua variable tersebut berkorelasi?\n",
    "\n",
    "Jawab:\n",
    "\n",
    "Dari scatter plot yang saya buat, terlihat bahwa kedua variabel memiliki hubungan positif. Walaupun ada beberapa fluktuasi, garis tren secara umum menunjukkan pola naik. Jadi, semakin tinggi Average Income, semakin tinggi pula Pizza Sell."
   ]
  },
  {
   "cell_type": "markdown",
   "metadata": {},
   "source": [
    "## 3. Count\n",
    "\n",
    "A. Slope\n",
    "\n",
    "B. Intercept\n",
    "\n",
    "C. SSR, SSE, SST, and R"
   ]
  },
  {
   "cell_type": "code",
   "execution_count": 30,
   "metadata": {},
   "outputs": [
    {
     "data": {
      "text/html": [
       "<div>\n",
       "<style scoped>\n",
       "    .dataframe tbody tr th:only-of-type {\n",
       "        vertical-align: middle;\n",
       "    }\n",
       "\n",
       "    .dataframe tbody tr th {\n",
       "        vertical-align: top;\n",
       "    }\n",
       "\n",
       "    .dataframe thead th {\n",
       "        text-align: right;\n",
       "    }\n",
       "</style>\n",
       "<table border=\"1\" class=\"dataframe\">\n",
       "  <thead>\n",
       "    <tr style=\"text-align: right;\">\n",
       "      <th></th>\n",
       "      <th>City</th>\n",
       "      <th>Average Income(1000$)</th>\n",
       "      <th>Pizza Sell(1000 pcs)</th>\n",
       "    </tr>\n",
       "  </thead>\n",
       "  <tbody>\n",
       "    <tr>\n",
       "      <th>0</th>\n",
       "      <td>1</td>\n",
       "      <td>5</td>\n",
       "      <td>27</td>\n",
       "    </tr>\n",
       "    <tr>\n",
       "      <th>1</th>\n",
       "      <td>2</td>\n",
       "      <td>10</td>\n",
       "      <td>46</td>\n",
       "    </tr>\n",
       "    <tr>\n",
       "      <th>2</th>\n",
       "      <td>3</td>\n",
       "      <td>20</td>\n",
       "      <td>73</td>\n",
       "    </tr>\n",
       "    <tr>\n",
       "      <th>3</th>\n",
       "      <td>4</td>\n",
       "      <td>8</td>\n",
       "      <td>40</td>\n",
       "    </tr>\n",
       "    <tr>\n",
       "      <th>4</th>\n",
       "      <td>5</td>\n",
       "      <td>4</td>\n",
       "      <td>28</td>\n",
       "    </tr>\n",
       "    <tr>\n",
       "      <th>5</th>\n",
       "      <td>6</td>\n",
       "      <td>6</td>\n",
       "      <td>30</td>\n",
       "    </tr>\n",
       "    <tr>\n",
       "      <th>6</th>\n",
       "      <td>7</td>\n",
       "      <td>12</td>\n",
       "      <td>46</td>\n",
       "    </tr>\n",
       "    <tr>\n",
       "      <th>7</th>\n",
       "      <td>8</td>\n",
       "      <td>15</td>\n",
       "      <td>59</td>\n",
       "    </tr>\n",
       "  </tbody>\n",
       "</table>\n",
       "</div>"
      ],
      "text/plain": [
       "   City  Average Income(1000$)  Pizza Sell(1000 pcs)\n",
       "0     1                      5                    27\n",
       "1     2                     10                    46\n",
       "2     3                     20                    73\n",
       "3     4                      8                    40\n",
       "4     5                      4                    28\n",
       "5     6                      6                    30\n",
       "6     7                     12                    46\n",
       "7     8                     15                    59"
      ]
     },
     "execution_count": 30,
     "metadata": {},
     "output_type": "execute_result"
    }
   ],
   "source": [
    "data_pizza"
   ]
  },
  {
   "cell_type": "code",
   "execution_count": 21,
   "metadata": {},
   "outputs": [],
   "source": [
    "# pakai linear regression \n",
    "model = LinearRegression()\n",
    "model.fit(X, y)\n",
    "\n",
    "# hitung slope dan intercept\n",
    "slope = model.coef_[0]\n",
    "intercept = model.intercept_\n",
    "\n",
    "# hitung nilai prediksi \n",
    "y_pred = model.predict(X)\n"
   ]
  },
  {
   "cell_type": "code",
   "execution_count": 22,
   "metadata": {},
   "outputs": [],
   "source": [
    "# Hitung SSR, SSE, SST dan R\n",
    "SSR = np.sum((y_pred - np.mean(y)) ** 2)\n",
    "SSE = np.sum((y - y_pred) ** 2)\n",
    "SST = np.sum((y - np.mean(y)) ** 2)\n",
    "\n",
    "R_squared = 1 - (SSE / SST)"
   ]
  },
  {
   "cell_type": "code",
   "execution_count": 23,
   "metadata": {},
   "outputs": [
    {
     "name": "stdout",
     "output_type": "stream",
     "text": [
      "Slope:  2.923809523809525\n"
     ]
    }
   ],
   "source": [
    "# hasil Slope\n",
    "print(\"Slope: \", slope)"
   ]
  },
  {
   "cell_type": "code",
   "execution_count": 24,
   "metadata": {},
   "outputs": [
    {
     "name": "stdout",
     "output_type": "stream",
     "text": [
      "Intercept:  14.386904761904752\n"
     ]
    }
   ],
   "source": [
    "# Hasil Intercept\n",
    "print(\"Intercept: \", intercept)"
   ]
  },
  {
   "cell_type": "code",
   "execution_count": 25,
   "metadata": {},
   "outputs": [
    {
     "name": "stdout",
     "output_type": "stream",
     "text": [
      "SSR:  1795.2190476190485\n",
      "SSE:  34.655952380952414\n",
      "SST:  1829.875\n",
      "R-squared:  0.9810610274576392\n"
     ]
    }
   ],
   "source": [
    "# Hasil SSR, SSE, SST, R\n",
    "print(\"SSR: \", SSR)\n",
    "print(\"SSE: \", SSE)\n",
    "print(\"SST: \", SST)\n",
    "print(\"R-squared: \", R_squared)"
   ]
  },
  {
   "cell_type": "markdown",
   "metadata": {},
   "source": [
    "# Kesimpulan \n",
    "\n",
    "- **Slope (2.92):**\n",
    "  Artinya, setiap peningkatan 1 unit pada Average Income, Pizza Sell cenderung meningkat sekitar 2.92 unit.\n",
    "\n",
    "- **Intercept (14.39):**\n",
    "  Nilai ini menunjukkan bahwa jika Average Income sama dengan nol, maka prediksi Pizza Sell adalah sekitar 14.39 unit.\n",
    "\n",
    "- **SSR, SSE, dan SST:**\n",
    "  Dengan SSR sebesar 1795.22, SSE sekitar 34.66, dan SST sebesar 1829.88, terlihat bahwa sebagian besar variasi data (SSR) berhasil dijelaskan oleh model, sedangkan kesalahan prediksi (SSE) sangat kecil.\n",
    "\n",
    "- **R-squared (0.98):**\n",
    "  Nilai R-squared yang mendekati 1 (98%) menandakan bahwa model ini mampu menjelaskan hampir seluruh variansi dalam data, menunjukkan bahwa hubungan antara Average Income dan Pizza Sell sangat kuat dan positif."
   ]
  }
 ],
 "metadata": {
  "kernelspec": {
   "display_name": "base",
   "language": "python",
   "name": "python3"
  },
  "language_info": {
   "codemirror_mode": {
    "name": "ipython",
    "version": 3
   },
   "file_extension": ".py",
   "mimetype": "text/x-python",
   "name": "python",
   "nbconvert_exporter": "python",
   "pygments_lexer": "ipython3",
   "version": "3.11.7"
  }
 },
 "nbformat": 4,
 "nbformat_minor": 2
}
